{
 "cells": [
  {
   "cell_type": "code",
   "execution_count": null,
   "id": "cba321b5",
   "metadata": {},
   "outputs": [],
   "source": [
    "# 1. Imports\n",
    "import os\n",
    "import matplotlib.pyplot as plt\n",
    "from torchvision.datasets import Food101\n",
    "from torchvision import transforms\n",
    "from torch.utils.data import DataLoader\n",
    "\n",
    "# 2. Load the dataset (automatically downloads to ./data if not present)\n",
    "dataset = Food101(root='../data', download=True)\n",
    "\n",
    "# 3. Print basic info\n",
    "print(f\"Total images: {len(dataset)}\")\n",
    "print(f\"Number of classes: {len(dataset.classes)}\")\n",
    "print(\"Example classes:\", dataset.classes[:10])\n",
    "\n",
    "# 4. Visualize some random samples\n",
    "import random\n",
    "def show_samples(dataset, num=5):\n",
    "    indices = random.sample(range(len(dataset)), num)\n",
    "    fig, axes = plt.subplots(1, num, figsize=(15, 3))\n",
    "    for i, idx in enumerate(indices):\n",
    "        image, label = dataset[idx]\n",
    "        axes[i].imshow(image)\n",
    "        axes[i].set_title(dataset.classes[label])\n",
    "        axes[i].axis('off')\n",
    "    plt.tight_layout()\n",
    "    plt.show()\n",
    "\n",
    "show_samples(dataset, num=6)\n"
   ]
  }
 ],
 "metadata": {
  "language_info": {
   "name": "python"
  }
 },
 "nbformat": 4,
 "nbformat_minor": 5
}
